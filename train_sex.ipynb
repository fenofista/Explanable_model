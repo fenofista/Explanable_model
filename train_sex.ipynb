{
 "cells": [
  {
   "cell_type": "code",
   "execution_count": 1,
   "metadata": {
    "id": "ybA1VcJlfupx"
   },
   "outputs": [],
   "source": [
    "import os\n",
    "import nibabel as nib\n",
    "import matplotlib.pyplot as plt\n",
    "import numpy as np\n",
    "import cv2\n",
    "\n",
    "\n",
    "from torch.utils.data import DataLoader\n",
    "from torch.nn.functional import binary_cross_entropy\n",
    "from torch.utils.tensorboard import SummaryWriter\n",
    "import torchvision\n",
    "from torch.nn import Linear, ReLU, CrossEntropyLoss, Conv2d, MaxPool2d, Module\n",
    "import torch\n",
    "import pandas as pd\n",
    "import time\n",
    "\n",
    "import torch\n",
    "import torch.nn as nn\n",
    "import torch.nn.functional as F\n",
    "from torchvision import models\n",
    "import math\n"
   ]
  },
  {
   "cell_type": "code",
   "execution_count": 13,
   "metadata": {
    "id": "1_eNDLSagGaH"
   },
   "outputs": [],
   "source": [
    "import os\n",
    "import nibabel as nib\n",
    "import matplotlib.pyplot as plt\n",
    "import numpy as np\n",
    "from PIL import Image\n",
    "from torch.utils.data import DataLoader\n",
    "import cv2\n",
    "import torchvision.transforms.functional as tx\n",
    "from sklearn.utils import shuffle\n",
    "import torch\n",
    "class AL_Dataset():\n",
    "    def __init__(self, mode):\n",
    "        if(mode==\"train\"):\n",
    "            self.AD_dir = np.array(os.listdir(\"D:/Project/data_crop/training_data/AD\"))\n",
    "            self.CN_dir = np.array(os.listdir(\"D:/Project/data_crop/training_data/CN\"))\n",
    "        else:\n",
    "            self.AD_dir = np.array(os.listdir(\"D:/Project/data_crop/validation_data/AD\"))\n",
    "            self.CN_dir = np.array(os.listdir(\"D:/Project/data_crop/validation_data/CN\"))\n",
    "        self.AD = np.ones((len(self.AD_dir)))\n",
    "        self.CN = np.zeros((len(self.CN_dir)))\n",
    "        self.df = np.concatenate((self.AD_dir, self.CN_dir))\n",
    "        self.label = np.concatenate((self.AD, self.CN))\n",
    "        self.df, self.label = shuffle(self.df, self.label)\n",
    "        self.mode = mode\n",
    "        self.label_df = pd.read_csv(\"../data/B1_correction_new.csv\")\n",
    "\n",
    "    def __len__(self):\n",
    "        return self.df.shape[0]\n",
    "\n",
    "    def __getitem__(self, idx):\n",
    "        if self.mode==\"train\":\n",
    "            if self.label[idx]==1:\n",
    "                image_path = \"D:/Project/data_crop/training_data/AD/\"+self.df[idx]\n",
    "\n",
    "            else:\n",
    "                image_path = \"D:/Project/data_crop/training_data/CN/\"+self.df[idx]\n",
    "\n",
    "        else:\n",
    "            if self.label[idx]==1:\n",
    "                image_path = \"D:/Project/data_crop/validation_data/AD/\"+self.df[idx]\n",
    "\n",
    "            else:\n",
    "                image_path = \"D:/Project/data_crop/validation_data/CN/\"+self.df[idx]\n",
    "#         print(image_path)\n",
    "        patient_ID = image_path.split(\"/\")[5].split(\".\")[0]\n",
    "        index = list(self.label_df[\"Image Data ID\"]).index(patient_ID)\n",
    "        sex = self.label_df[\"Sex\"][index]\n",
    "        if sex ==\"M\":\n",
    "            label = 1\n",
    "        else:\n",
    "            label = 0\n",
    "        # print(patient_ID)\n",
    "        whole_image = nib.load(image_path)\n",
    "        whole_image = np.array(whole_image.dataobj)\n",
    "        image_arr = np.zeros((90, 256, 256, 3))\n",
    "        for i in range((90)):            \n",
    "            image = whole_image[i]\n",
    "            image = cv2.resize(image, (256, 256), interpolation=cv2.INTER_AREA)\n",
    "            image = normalize(image)\n",
    "            image = image.reshape(256, 256, 1)\n",
    "            image = np.concatenate((image, image, image), 2)\n",
    "            image_arr[i] = image\n",
    "        return image_arr, label\n",
    "    \n",
    "def normalize(arr):\n",
    "    arr_min = np.min(arr)\n",
    "    arr_max = np.max(arr)\n",
    "    return (arr - arr_min) / (arr_max - arr_min)"
   ]
  },
  {
   "cell_type": "code",
   "execution_count": 3,
   "metadata": {
    "id": "RmecScEIf3rj"
   },
   "outputs": [],
   "source": [
    "\n",
    "def train(dataloader, model, loss_fn, optimizer, writer, epoch, level):\n",
    "\n",
    "    model.train()\n",
    "    total_loss = 0\n",
    "    total_score = 0\n",
    "    for batch, (X_arr, y) in enumerate(dataloader):\n",
    "        X = X_arr[:,level]\n",
    "        X= torch.moveaxis(X,3,1)\n",
    "        X = X.float()\n",
    "        y = y.long()\n",
    "        X, y = X.to(device), y.to(device)\n",
    "\n",
    "        X = X.requires_grad_()\n",
    "        # Compute prediction error\n",
    "        pred = model(X)\n",
    "        total_score += (np.sum(y.cpu().detach().numpy()==np.argmax(pred.cpu().detach().numpy(), axis = 1))/y.shape[0])\n",
    "        loss = loss_fn(pred, y)\n",
    "        total_loss+=(abs(loss)/y.shape[0])\n",
    "        loss.requires_grad_()\n",
    "        # Backpropagation\n",
    "        optimizer.zero_grad()\n",
    "        loss.backward()\n",
    "        optimizer.step() \n",
    "\n",
    "        if batch % 25 == 0:\n",
    "            loss, current = loss.item(), batch * len(X)\n",
    "            print(\"total_loss : \", total_loss)\n",
    "    writer.add_scalar(\"Loss/train\", total_loss/len(dataloader), epoch)\n",
    "    writer.add_scalar(\"Score/train\", total_score/len(dataloader), epoch)\n",
    "    return total_loss, total_score\n",
    "\n"
   ]
  },
  {
   "cell_type": "code",
   "execution_count": 4,
   "metadata": {
    "id": "HnP3ZIxuf5iX"
   },
   "outputs": [],
   "source": [
    "def valid(dataloader, model, loss_fn, optimizer, writer, epoch, level):\n",
    "    model.eval()\n",
    "\n",
    "    size = len(dataloader.dataset)\n",
    "    model.train()\n",
    "    total_loss = 0\n",
    "    total_score = 0\n",
    "    for batch, (X_arr, y) in enumerate(dataloader):\n",
    "        X = X_arr[:,level]\n",
    "        X= torch.moveaxis(X,3,1)\n",
    "        X = X.float()\n",
    "        y = y.long()\n",
    "        X, y = X.to(device), y.to(device)\n",
    "        pred = model(X)\n",
    "        total_score += (np.sum(y.cpu().detach().numpy()==np.argmax(pred.cpu().detach().numpy(), axis = 1))/y.shape[0])\n",
    "        loss = loss_fn(pred, y)\n",
    "        total_loss+=(abs(loss)/y.shape[0])\n",
    "\n",
    "    writer.add_scalar(\"Loss/val\", total_loss/len(dataloader), epoch)\n",
    "    writer.add_scalar(\"Score/val\", total_score/len(dataloader), epoch)\n",
    "    return total_loss, total_score"
   ]
  },
  {
   "cell_type": "code",
   "execution_count": 18,
   "metadata": {
    "id": "KoiORT7if6uq"
   },
   "outputs": [],
   "source": [
    "train_dataset = AL_Dataset(\"train\")\n",
    "val_dataset = AL_Dataset(\"valid\")\n",
    "train_dataloader = DataLoader(train_dataset, batch_size = 1, shuffle = True)\n",
    "val_dataloader = DataLoader(val_dataset, batch_size = 1, shuffle = True)\n",
    "device = 'cuda' if torch.cuda.is_available() else \"cpu\"\n",
    "weight_map = torch.zeros((2))\n",
    "weight_map[0] = 1\n",
    "weight_map[1] = 1\n",
    "weight_map = weight_map.to(device)\n",
    "\n",
    "\n"
   ]
  },
  {
   "cell_type": "code",
   "execution_count": 19,
   "metadata": {
    "id": "lK6pZHlrgdwK"
   },
   "outputs": [
    {
     "name": "stdout",
     "output_type": "stream",
     "text": [
      "cuda\n"
     ]
    }
   ],
   "source": [
    "image_arr, label = next(iter(train_dataloader))\n",
    "print(device)"
   ]
  },
  {
   "cell_type": "code",
   "execution_count": 21,
   "metadata": {
    "colab": {
     "base_uri": "https://localhost:8080/"
    },
    "id": "FcQdwWWff8EU",
    "outputId": "32871db0-055a-4a6c-891c-964241f2624e",
    "scrolled": true
   },
   "outputs": [
    {
     "name": "stdout",
     "output_type": "stream",
     "text": [
      "cuda\n",
      "training with  45  level\n",
      "Epoch 1\n",
      "-------------------------------\n",
      "total_loss :  tensor(0.7522, device='cuda:0', grad_fn=<AddBackward0>)\n",
      "total_loss :  tensor(20.5144, device='cuda:0', grad_fn=<AddBackward0>)\n",
      "total_loss :  tensor(38.2800, device='cuda:0', grad_fn=<AddBackward0>)\n",
      "total_loss :  tensor(58.5595, device='cuda:0', grad_fn=<AddBackward0>)\n",
      "total_loss :  tensor(78.2430, device='cuda:0', grad_fn=<AddBackward0>)\n",
      "total_loss :  tensor(96.6650, device='cuda:0', grad_fn=<AddBackward0>)\n",
      "total_loss :  tensor(115.6024, device='cuda:0', grad_fn=<AddBackward0>)\n",
      "total_loss :  tensor(134.0063, device='cuda:0', grad_fn=<AddBackward0>)\n",
      "total_loss :  tensor(154.7695, device='cuda:0', grad_fn=<AddBackward0>)\n",
      "total_loss :  tensor(174.2768, device='cuda:0', grad_fn=<AddBackward0>)\n",
      "total_loss :  tensor(190.2130, device='cuda:0', grad_fn=<AddBackward0>)\n",
      "total_loss :  tensor(209.3362, device='cuda:0', grad_fn=<AddBackward0>)\n",
      "total_loss :  tensor(227.2575, device='cuda:0', grad_fn=<AddBackward0>)\n",
      "total_loss :  tensor(245.7138, device='cuda:0', grad_fn=<AddBackward0>)\n",
      "total_loss :  tensor(265.5344, device='cuda:0', grad_fn=<AddBackward0>)\n",
      "total_loss :  tensor(283.0251, device='cuda:0', grad_fn=<AddBackward0>)\n",
      "total_loss :  tensor(300.4072, device='cuda:0', grad_fn=<AddBackward0>)\n",
      "total_loss :  tensor(319.6639, device='cuda:0', grad_fn=<AddBackward0>)\n",
      "total_loss :  tensor(337.2150, device='cuda:0', grad_fn=<AddBackward0>)\n",
      "total_loss :  tensor(354.0554, device='cuda:0', grad_fn=<AddBackward0>)\n",
      "total_loss :  tensor(372.9935, device='cuda:0', grad_fn=<AddBackward0>)\n",
      "total_loss :  tensor(392.0518, device='cuda:0', grad_fn=<AddBackward0>)\n",
      "total_loss :  tensor(410.1843, device='cuda:0', grad_fn=<AddBackward0>)\n",
      "total_loss :  tensor(429.4621, device='cuda:0', grad_fn=<AddBackward0>)\n",
      "total_loss :  tensor(447.6227, device='cuda:0', grad_fn=<AddBackward0>)\n",
      "total_loss :  tensor(466.6047, device='cuda:0', grad_fn=<AddBackward0>)\n",
      "total_loss :  tensor(487.4691, device='cuda:0', grad_fn=<AddBackward0>)\n",
      "total_loss :  tensor(507.3951, device='cuda:0', grad_fn=<AddBackward0>)\n",
      "total_loss :  tensor(525.4130, device='cuda:0', grad_fn=<AddBackward0>)\n",
      "total_loss :  tensor(540.2386, device='cuda:0', grad_fn=<AddBackward0>)\n",
      "total_loss :  tensor(559.7752, device='cuda:0', grad_fn=<AddBackward0>)\n",
      "total_loss :  tensor(576.3308, device='cuda:0', grad_fn=<AddBackward0>)\n",
      "total_loss :  tensor(598.2841, device='cuda:0', grad_fn=<AddBackward0>)\n",
      "total_loss :  tensor(618.4574, device='cuda:0', grad_fn=<AddBackward0>)\n",
      "total_loss :  tensor(636.9065, device='cuda:0', grad_fn=<AddBackward0>)\n",
      "total_loss :  tensor(654.8272, device='cuda:0', grad_fn=<AddBackward0>)\n",
      "total_loss :  tensor(672.0453, device='cuda:0', grad_fn=<AddBackward0>)\n",
      "training loss :  tensor(0.7454, device='cuda:0', grad_fn=<DivBackward0>)\n",
      "training total score :  0.5238095238095238\n",
      "validation loss :  tensor(0.6794, device='cuda:0')\n",
      "validation total score :  0.523972602739726\n",
      "#########save_best_model###########\n",
      "Epoch 2\n",
      "-------------------------------\n",
      "total_loss :  tensor(0.5621, device='cuda:0', grad_fn=<AddBackward0>)\n",
      "total_loss :  tensor(17.2874, device='cuda:0', grad_fn=<AddBackward0>)\n",
      "total_loss :  tensor(33.4541, device='cuda:0', grad_fn=<AddBackward0>)\n",
      "total_loss :  tensor(51.5576, device='cuda:0', grad_fn=<AddBackward0>)\n",
      "total_loss :  tensor(67.3752, device='cuda:0', grad_fn=<AddBackward0>)\n",
      "total_loss :  tensor(87.4992, device='cuda:0', grad_fn=<AddBackward0>)\n",
      "total_loss :  tensor(104.9770, device='cuda:0', grad_fn=<AddBackward0>)\n",
      "total_loss :  tensor(122.5833, device='cuda:0', grad_fn=<AddBackward0>)\n",
      "total_loss :  tensor(138.8013, device='cuda:0', grad_fn=<AddBackward0>)\n",
      "total_loss :  tensor(153.2519, device='cuda:0', grad_fn=<AddBackward0>)\n",
      "total_loss :  tensor(170.8388, device='cuda:0', grad_fn=<AddBackward0>)\n"
     ]
    },
    {
     "ename": "KeyboardInterrupt",
     "evalue": "",
     "output_type": "error",
     "traceback": [
      "\u001b[1;31m---------------------------------------------------------------------------\u001b[0m",
      "\u001b[1;31mKeyboardInterrupt\u001b[0m                         Traceback (most recent call last)",
      "\u001b[1;32m~\\AppData\\Local\\Temp/ipykernel_8068/304403456.py\u001b[0m in \u001b[0;36m<module>\u001b[1;34m\u001b[0m\n\u001b[0;32m     22\u001b[0m     \u001b[1;32mfor\u001b[0m \u001b[0mt\u001b[0m \u001b[1;32min\u001b[0m \u001b[0mrange\u001b[0m\u001b[1;33m(\u001b[0m\u001b[0mepochs\u001b[0m\u001b[1;33m)\u001b[0m\u001b[1;33m:\u001b[0m\u001b[1;33m\u001b[0m\u001b[1;33m\u001b[0m\u001b[0m\n\u001b[0;32m     23\u001b[0m         \u001b[0mprint\u001b[0m\u001b[1;33m(\u001b[0m\u001b[1;34mf\"Epoch {t+1}\\n-------------------------------\"\u001b[0m\u001b[1;33m)\u001b[0m\u001b[1;33m\u001b[0m\u001b[1;33m\u001b[0m\u001b[0m\n\u001b[1;32m---> 24\u001b[1;33m         \u001b[0mtotal_loss_train\u001b[0m\u001b[1;33m,\u001b[0m \u001b[0mtotal_score_train\u001b[0m \u001b[1;33m=\u001b[0m \u001b[0mtrain\u001b[0m\u001b[1;33m(\u001b[0m\u001b[0mtrain_dataloader\u001b[0m\u001b[1;33m,\u001b[0m \u001b[0mmodel\u001b[0m\u001b[1;33m,\u001b[0m \u001b[0mloss_fn\u001b[0m\u001b[1;33m,\u001b[0m \u001b[0moptimizer\u001b[0m\u001b[1;33m,\u001b[0m \u001b[0mwriter\u001b[0m\u001b[1;33m,\u001b[0m \u001b[0mt\u001b[0m\u001b[1;33m,\u001b[0m \u001b[0mi\u001b[0m\u001b[1;33m)\u001b[0m\u001b[1;33m\u001b[0m\u001b[1;33m\u001b[0m\u001b[0m\n\u001b[0m\u001b[0;32m     25\u001b[0m         \u001b[0mprint\u001b[0m\u001b[1;33m(\u001b[0m\u001b[1;34m\"training loss : \"\u001b[0m\u001b[1;33m,\u001b[0m \u001b[0mtotal_loss_train\u001b[0m\u001b[1;33m/\u001b[0m\u001b[0mlen\u001b[0m\u001b[1;33m(\u001b[0m\u001b[0mtrain_dataloader\u001b[0m\u001b[1;33m)\u001b[0m\u001b[1;33m)\u001b[0m\u001b[1;33m\u001b[0m\u001b[1;33m\u001b[0m\u001b[0m\n\u001b[0;32m     26\u001b[0m         \u001b[0mprint\u001b[0m\u001b[1;33m(\u001b[0m\u001b[1;34m\"training total score : \"\u001b[0m\u001b[1;33m,\u001b[0m \u001b[0mtotal_score_train\u001b[0m\u001b[1;33m/\u001b[0m\u001b[0mlen\u001b[0m\u001b[1;33m(\u001b[0m\u001b[0mtrain_dataloader\u001b[0m\u001b[1;33m)\u001b[0m\u001b[1;33m)\u001b[0m\u001b[1;33m\u001b[0m\u001b[1;33m\u001b[0m\u001b[0m\n",
      "\u001b[1;32m~\\AppData\\Local\\Temp/ipykernel_8068/1792716103.py\u001b[0m in \u001b[0;36mtrain\u001b[1;34m(dataloader, model, loss_fn, optimizer, writer, epoch, level)\u001b[0m\n\u001b[0;32m     20\u001b[0m         \u001b[1;31m# Backpropagation\u001b[0m\u001b[1;33m\u001b[0m\u001b[1;33m\u001b[0m\u001b[0m\n\u001b[0;32m     21\u001b[0m         \u001b[0moptimizer\u001b[0m\u001b[1;33m.\u001b[0m\u001b[0mzero_grad\u001b[0m\u001b[1;33m(\u001b[0m\u001b[1;33m)\u001b[0m\u001b[1;33m\u001b[0m\u001b[1;33m\u001b[0m\u001b[0m\n\u001b[1;32m---> 22\u001b[1;33m         \u001b[0mloss\u001b[0m\u001b[1;33m.\u001b[0m\u001b[0mbackward\u001b[0m\u001b[1;33m(\u001b[0m\u001b[1;33m)\u001b[0m\u001b[1;33m\u001b[0m\u001b[1;33m\u001b[0m\u001b[0m\n\u001b[0m\u001b[0;32m     23\u001b[0m         \u001b[0moptimizer\u001b[0m\u001b[1;33m.\u001b[0m\u001b[0mstep\u001b[0m\u001b[1;33m(\u001b[0m\u001b[1;33m)\u001b[0m\u001b[1;33m\u001b[0m\u001b[1;33m\u001b[0m\u001b[0m\n\u001b[0;32m     24\u001b[0m \u001b[1;33m\u001b[0m\u001b[0m\n",
      "\u001b[1;32m~\\anaconda3\\lib\\site-packages\\torch\\_tensor.py\u001b[0m in \u001b[0;36mbackward\u001b[1;34m(self, gradient, retain_graph, create_graph, inputs)\u001b[0m\n\u001b[0;32m    361\u001b[0m                 \u001b[0mcreate_graph\u001b[0m\u001b[1;33m=\u001b[0m\u001b[0mcreate_graph\u001b[0m\u001b[1;33m,\u001b[0m\u001b[1;33m\u001b[0m\u001b[1;33m\u001b[0m\u001b[0m\n\u001b[0;32m    362\u001b[0m                 inputs=inputs)\n\u001b[1;32m--> 363\u001b[1;33m         \u001b[0mtorch\u001b[0m\u001b[1;33m.\u001b[0m\u001b[0mautograd\u001b[0m\u001b[1;33m.\u001b[0m\u001b[0mbackward\u001b[0m\u001b[1;33m(\u001b[0m\u001b[0mself\u001b[0m\u001b[1;33m,\u001b[0m \u001b[0mgradient\u001b[0m\u001b[1;33m,\u001b[0m \u001b[0mretain_graph\u001b[0m\u001b[1;33m,\u001b[0m \u001b[0mcreate_graph\u001b[0m\u001b[1;33m,\u001b[0m \u001b[0minputs\u001b[0m\u001b[1;33m=\u001b[0m\u001b[0minputs\u001b[0m\u001b[1;33m)\u001b[0m\u001b[1;33m\u001b[0m\u001b[1;33m\u001b[0m\u001b[0m\n\u001b[0m\u001b[0;32m    364\u001b[0m \u001b[1;33m\u001b[0m\u001b[0m\n\u001b[0;32m    365\u001b[0m     \u001b[1;32mdef\u001b[0m \u001b[0mregister_hook\u001b[0m\u001b[1;33m(\u001b[0m\u001b[0mself\u001b[0m\u001b[1;33m,\u001b[0m \u001b[0mhook\u001b[0m\u001b[1;33m)\u001b[0m\u001b[1;33m:\u001b[0m\u001b[1;33m\u001b[0m\u001b[1;33m\u001b[0m\u001b[0m\n",
      "\u001b[1;32m~\\anaconda3\\lib\\site-packages\\torch\\autograd\\__init__.py\u001b[0m in \u001b[0;36mbackward\u001b[1;34m(tensors, grad_tensors, retain_graph, create_graph, grad_variables, inputs)\u001b[0m\n\u001b[0;32m    171\u001b[0m     \u001b[1;31m# some Python versions print out the first line of a multi-line function\u001b[0m\u001b[1;33m\u001b[0m\u001b[1;33m\u001b[0m\u001b[0m\n\u001b[0;32m    172\u001b[0m     \u001b[1;31m# calls in the traceback and some print out the last line\u001b[0m\u001b[1;33m\u001b[0m\u001b[1;33m\u001b[0m\u001b[0m\n\u001b[1;32m--> 173\u001b[1;33m     Variable._execution_engine.run_backward(  # Calls into the C++ engine to run the backward pass\n\u001b[0m\u001b[0;32m    174\u001b[0m         \u001b[0mtensors\u001b[0m\u001b[1;33m,\u001b[0m \u001b[0mgrad_tensors_\u001b[0m\u001b[1;33m,\u001b[0m \u001b[0mretain_graph\u001b[0m\u001b[1;33m,\u001b[0m \u001b[0mcreate_graph\u001b[0m\u001b[1;33m,\u001b[0m \u001b[0minputs\u001b[0m\u001b[1;33m,\u001b[0m\u001b[1;33m\u001b[0m\u001b[1;33m\u001b[0m\u001b[0m\n\u001b[0;32m    175\u001b[0m         allow_unreachable=True, accumulate_grad=True)  # Calls into the C++ engine to run the backward pass\n",
      "\u001b[1;31mKeyboardInterrupt\u001b[0m: "
     ]
    }
   ],
   "source": [
    "epochs = 20\n",
    "# device = 'cuda' if torch.cuda.is_available() else \"cpu\"\n",
    "date = \"10_23_1\"\n",
    "writer = SummaryWriter(date)\n",
    "print(device)\n",
    "max_score=0\n",
    "min_loss = 100\n",
    "each_score = np.zeros((100))\n",
    "if not os.path.exists(\"../data/models\"):\n",
    "    os.mkdir(\"../data/models\")\n",
    "for i in range(45, 90):\n",
    "    print(\"training with \",i,\" level\")\n",
    "#     model = models.resnet101(pretrained=False)\n",
    "#     model.fc = nn.Linear(2048, 2)\n",
    "    model = models.resnet34(pretrained=False)\n",
    "    model.fc = nn.Linear(512, 2)\n",
    "    model.to(device)\n",
    "    optimizer = torch.optim.Adam(model.parameters(), lr=3e-4)\n",
    "    loss_fn = nn.CrossEntropyLoss(weight=weight_map)\n",
    "    min_loss = 100\n",
    "    max_score = 0\n",
    "    for t in range(epochs):\n",
    "        print(f\"Epoch {t+1}\\n-------------------------------\")\n",
    "        total_loss_train, total_score_train = train(train_dataloader, model, loss_fn, optimizer, writer, t, i)\n",
    "        print(\"training loss : \", total_loss_train/len(train_dataloader))\n",
    "        print(\"training total score : \", total_score_train/len(train_dataloader))\n",
    "        if(t%3==0): \n",
    "            with torch.no_grad():\n",
    "                total_loss_val, total_score_val = valid(val_dataloader, model, loss_fn, optimizer, writer, t, i)\n",
    "                print(\"validation loss : \", total_loss_val/len(val_dataloader))\n",
    "                print(\"validation total score : \", total_score_val/len(val_dataloader))\n",
    "                if(total_score_val/len(val_dataloader) > max_score ):\n",
    "                    max_score = total_score_val/len(val_dataloader)\n",
    "                    each_score[i] = max_score\n",
    "                    print(\"#########save_best_model###########\")\n",
    "                    torch.save(model.state_dict(), \"../data/models/level_\"+str(i)+\"_best\"+\".pth\")\n",
    "        torch.save(model.state_dict(), \"../data/models/level_\"+str(i)+\"_last\"+\".pth\")\n",
    "print(\"Done!\")"
   ]
  },
  {
   "cell_type": "code",
   "execution_count": null,
   "metadata": {
    "id": "0sDVcjpRjrc7"
   },
   "outputs": [],
   "source": []
  }
 ],
 "metadata": {
  "accelerator": "GPU",
  "colab": {
   "authorship_tag": "ABX9TyMvvGrjDj7kPWQBmConhSn6",
   "collapsed_sections": [],
   "mount_file_id": "1DjAtltXUe7vHMzc9eGyIdcAW-kh2aW2A",
   "provenance": []
  },
  "kernelspec": {
   "display_name": "Python 3 (ipykernel)",
   "language": "python",
   "name": "python3"
  },
  "language_info": {
   "codemirror_mode": {
    "name": "ipython",
    "version": 3
   },
   "file_extension": ".py",
   "mimetype": "text/x-python",
   "name": "python",
   "nbconvert_exporter": "python",
   "pygments_lexer": "ipython3",
   "version": "3.9.7"
  }
 },
 "nbformat": 4,
 "nbformat_minor": 1
}
